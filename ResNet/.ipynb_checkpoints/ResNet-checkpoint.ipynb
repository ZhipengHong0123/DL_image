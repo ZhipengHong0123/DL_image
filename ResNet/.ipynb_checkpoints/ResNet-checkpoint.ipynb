{
 "cells": [
  {
   "cell_type": "markdown",
   "id": "3f4c06f3",
   "metadata": {},
   "source": [
    "# ResNet"
   ]
  },
  {
   "cell_type": "code",
   "execution_count": 1,
   "id": "252ecf70",
   "metadata": {},
   "outputs": [],
   "source": [
    "import torch\n",
    "import torch.nn as nn\n",
    "import torch.nn.functional as F\n",
    "from torch.utils.data import DataLoader\n",
    "from torchvision import datasets\n",
    "import torchvision.transforms as transforms\n",
    "import torchvision\n"
   ]
  },
  {
   "cell_type": "code",
   "execution_count": 2,
   "id": "7c531dc5",
   "metadata": {},
   "outputs": [],
   "source": [
    "class ResNetblock(nn.Module):\n",
    "    def __init__(self,input_channel,out_channel,stride=1, convx=False):\n",
    "        super(ResNetblock,self).__init__()\n",
    "        self.C1 = nn.Conv2d(input_channel,out_channel,kernel_size=3,padding=1,stride=stride)\n",
    "        self.B1 = nn.BatchNorm2d(out_channel)\n",
    "        self.C2 = nn.Conv2d(out_channel,out_channel,kernel_size=3,padding=1)\n",
    "        self.B2 = nn.BatchNorm2d(out_channel)\n",
    "        self.relu = nn.ReLU()\n",
    "        if convx:\n",
    "            self.CX = nn.Conv2d(input_channel,out_channel,kernel_size=1,stride=stride)\n",
    "        else:\n",
    "            self.CX=None\n",
    "    \n",
    "    def forward(self,X):\n",
    "        Y = self.relu(self.B1(self.C1(X)))\n",
    "        Y = self.B2(self.C2(Y))\n",
    "        if self.CX:\n",
    "            X = self.CX(X)\n",
    "        Y+=X\n",
    "        return F.relu(Y)"
   ]
  },
  {
   "cell_type": "code",
   "execution_count": 5,
   "id": "d6811b21",
   "metadata": {},
   "outputs": [
    {
     "data": {
      "text/plain": [
       "torch.Size([1, 3, 5, 5])"
      ]
     },
     "execution_count": 5,
     "metadata": {},
     "output_type": "execute_result"
    }
   ],
   "source": [
    "blk = ResNetblock(3,3)\n",
    "X=torch.rand((1,3,5,5))\n",
    "blk(X).shape"
   ]
  },
  {
   "cell_type": "code",
   "execution_count": 9,
   "id": "cd6802bd",
   "metadata": {},
   "outputs": [
    {
     "data": {
      "text/plain": [
       "torch.Size([1, 5, 3, 3])"
      ]
     },
     "execution_count": 9,
     "metadata": {},
     "output_type": "execute_result"
    }
   ],
   "source": [
    "blk = ResNetblock(3,5,stride=2,convx=True)\n",
    "X=torch.rand((1,3,5,5))\n",
    "blk(X).shape"
   ]
  },
  {
   "cell_type": "code",
   "execution_count": null,
   "id": "df3b7880",
   "metadata": {},
   "outputs": [],
   "source": []
  },
  {
   "cell_type": "code",
   "execution_count": null,
   "id": "7fbafe88",
   "metadata": {},
   "outputs": [],
   "source": []
  }
 ],
 "metadata": {
  "kernelspec": {
   "display_name": "Python 3 (ipykernel)",
   "language": "python",
   "name": "python3"
  },
  "language_info": {
   "codemirror_mode": {
    "name": "ipython",
    "version": 3
   },
   "file_extension": ".py",
   "mimetype": "text/x-python",
   "name": "python",
   "nbconvert_exporter": "python",
   "pygments_lexer": "ipython3",
   "version": "3.8.12"
  }
 },
 "nbformat": 4,
 "nbformat_minor": 5
}
