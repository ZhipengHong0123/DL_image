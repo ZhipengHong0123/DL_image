{
 "cells": [
  {
   "cell_type": "markdown",
   "id": "85aa98bb",
   "metadata": {},
   "source": [
    "# VGG"
   ]
  },
  {
   "cell_type": "code",
   "execution_count": 1,
   "id": "5cbd4a50",
   "metadata": {},
   "outputs": [],
   "source": [
    "import torch\n",
    "import torch.nn as nn\n",
    "import torch.nn.functional as F\n",
    "from torch.utils.data import DataLoader\n",
    "from torchvision import datasets\n",
    "import torchvision.transforms as transforms\n",
    "import torchvision\n",
    "from train_func import *"
   ]
  },
  {
   "cell_type": "code",
   "execution_count": 2,
   "id": "05ed4d82",
   "metadata": {},
   "outputs": [],
   "source": [
    "class VGG(nn.Module):\n",
    "    def __init__(self,in_channel,vgg_arch):\n",
    "        super(VGG,self).__init__()\n",
    "        self.image  = self.vgg_block(in_channel,vgg_arch)\n",
    "        self.linear = self.linear_(vgg_arch[-1][-1])\n",
    "    def forward(self,x):\n",
    "        x=self.image(x)\n",
    "        x=self.linear(x)\n",
    "        return x\n",
    "\n",
    "\n",
    "    def vgg_block(self,in_channel,vgg_arch):\n",
    "        conv_block=[]\n",
    "        for nums,out_channel in vgg_arch:\n",
    "            conv_block.append(self.block_(nums,in_channel,out_channel))\n",
    "            in_channel=out_channel\n",
    "        conv_block.append(nn.Flatten())\n",
    "        return nn.Sequential(*conv_block)\n",
    "    \n",
    "    def block_(self,nums,in_channel,out_channel):\n",
    "        layers=[]\n",
    "        # add convolution layers (didnt change shape)\n",
    "        for _ in range(nums):\n",
    "            layers.append(nn.Conv2d(in_channels=in_channel,out_channels=out_channel,kernel_size=3,padding=1))\n",
    "            layers.append(nn.ReLU())\n",
    "            in_channel=out_channel\n",
    "        # reduce shape by half using maxpool\n",
    "        layers.append(nn.MaxPool2d(kernel_size=2,stride=2))\n",
    "        return nn.Sequential(*layers)\n",
    "    \n",
    "    def linear_(self,out_channels):\n",
    "        layer=nn.Sequential(\n",
    "            nn.Linear(out_channels * 7 * 7, 4096), nn.ReLU(), nn.Dropout(0.5),\n",
    "            nn.Linear(4096, 4096), nn.ReLU(), nn.Dropout(0.5),\n",
    "            nn.Linear(4096, 10)\n",
    "        )\n",
    "        return layer\n",
    "\n",
    "            "
   ]
  },
  {
   "cell_type": "code",
   "execution_count": 3,
   "id": "80b5e39b",
   "metadata": {},
   "outputs": [
    {
     "data": {
      "text/plain": [
       "VGG(\n",
       "  (image): Sequential(\n",
       "    (0): Sequential(\n",
       "      (0): Conv2d(3, 64, kernel_size=(3, 3), stride=(1, 1), padding=(1, 1))\n",
       "      (1): ReLU()\n",
       "      (2): MaxPool2d(kernel_size=2, stride=2, padding=0, dilation=1, ceil_mode=False)\n",
       "    )\n",
       "    (1): Sequential(\n",
       "      (0): Conv2d(64, 128, kernel_size=(3, 3), stride=(1, 1), padding=(1, 1))\n",
       "      (1): ReLU()\n",
       "      (2): MaxPool2d(kernel_size=2, stride=2, padding=0, dilation=1, ceil_mode=False)\n",
       "    )\n",
       "    (2): Sequential(\n",
       "      (0): Conv2d(128, 256, kernel_size=(3, 3), stride=(1, 1), padding=(1, 1))\n",
       "      (1): ReLU()\n",
       "      (2): Conv2d(256, 256, kernel_size=(3, 3), stride=(1, 1), padding=(1, 1))\n",
       "      (3): ReLU()\n",
       "      (4): MaxPool2d(kernel_size=2, stride=2, padding=0, dilation=1, ceil_mode=False)\n",
       "    )\n",
       "    (3): Sequential(\n",
       "      (0): Conv2d(256, 512, kernel_size=(3, 3), stride=(1, 1), padding=(1, 1))\n",
       "      (1): ReLU()\n",
       "      (2): Conv2d(512, 512, kernel_size=(3, 3), stride=(1, 1), padding=(1, 1))\n",
       "      (3): ReLU()\n",
       "      (4): MaxPool2d(kernel_size=2, stride=2, padding=0, dilation=1, ceil_mode=False)\n",
       "    )\n",
       "    (4): Sequential(\n",
       "      (0): Conv2d(512, 512, kernel_size=(3, 3), stride=(1, 1), padding=(1, 1))\n",
       "      (1): ReLU()\n",
       "      (2): Conv2d(512, 512, kernel_size=(3, 3), stride=(1, 1), padding=(1, 1))\n",
       "      (3): ReLU()\n",
       "      (4): MaxPool2d(kernel_size=2, stride=2, padding=0, dilation=1, ceil_mode=False)\n",
       "    )\n",
       "    (5): Flatten(start_dim=1, end_dim=-1)\n",
       "  )\n",
       "  (linear): Sequential(\n",
       "    (0): Linear(in_features=25088, out_features=4096, bias=True)\n",
       "    (1): ReLU()\n",
       "    (2): Dropout(p=0.5, inplace=False)\n",
       "    (3): Linear(in_features=4096, out_features=4096, bias=True)\n",
       "    (4): ReLU()\n",
       "    (5): Dropout(p=0.5, inplace=False)\n",
       "    (6): Linear(in_features=4096, out_features=10, bias=True)\n",
       "  )\n",
       ")"
      ]
     },
     "execution_count": 3,
     "metadata": {},
     "output_type": "execute_result"
    }
   ],
   "source": [
    "# VGG-11\n",
    "vgg_arch=((1, 64), (1, 128), (2, 256), (2, 512), (2, 512))\n",
    "model=VGG(3,vgg_arch)\n",
    "model"
   ]
  },
  {
   "cell_type": "code",
   "execution_count": 4,
   "id": "55b4fbbb",
   "metadata": {},
   "outputs": [
    {
     "name": "stdout",
     "output_type": "stream",
     "text": [
      "Files already downloaded and verified\n",
      "Files already downloaded and verified\n"
     ]
    }
   ],
   "source": [
    "train_dl,test_dl = get_CIFAR10(size=224,batch_size=256)"
   ]
  },
  {
   "cell_type": "code",
   "execution_count": null,
   "id": "5f5a35fa",
   "metadata": {},
   "outputs": [],
   "source": [
    "model=VGG(3,vgg_arch).cuda()\n",
    "optimizer=torch.optim.AdamW(model.parameters(),lr=0.0005) \n",
    "train_loop(model,optimizer,train_dl,test_dl,10)"
   ]
  }
 ],
 "metadata": {
  "kernelspec": {
   "display_name": "Python 3 (ipykernel)",
   "language": "python",
   "name": "python3"
  },
  "language_info": {
   "codemirror_mode": {
    "name": "ipython",
    "version": 3
   },
   "file_extension": ".py",
   "mimetype": "text/x-python",
   "name": "python",
   "nbconvert_exporter": "python",
   "pygments_lexer": "ipython3",
   "version": "3.8.12"
  }
 },
 "nbformat": 4,
 "nbformat_minor": 5
}
